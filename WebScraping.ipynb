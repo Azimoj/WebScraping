{
  "nbformat": 4,
  "nbformat_minor": 0,
  "metadata": {
    "colab": {
      "provenance": [],
      "authorship_tag": "ABX9TyMEyEO0HdAwIYuKLLAkGEhz",
      "include_colab_link": true
    },
    "kernelspec": {
      "name": "python3",
      "display_name": "Python 3"
    },
    "language_info": {
      "name": "python"
    }
  },
  "cells": [
    {
      "cell_type": "markdown",
      "metadata": {
        "id": "view-in-github",
        "colab_type": "text"
      },
      "source": [
        "<a href=\"https://colab.research.google.com/github/Azimoj/WebScraping/blob/main/WebScraping.ipynb\" target=\"_parent\"><img src=\"https://colab.research.google.com/assets/colab-badge.svg\" alt=\"Open In Colab\"/></a>"
      ]
    },
    {
      "cell_type": "markdown",
      "source": [
        "Obtenir les derniers articles du Monde (**)\n",
        "\n",
        "Obtenir le titre et le chapeau (description) des derniers articles sur https://www.lemonde.fr/actualite-en-continu/ (*)\n",
        "\n",
        "Enregistrer les images correspondantes (***, @)"
      ],
      "metadata": {
        "id": "iabcppGkBVd5"
      }
    },
    {
      "cell_type": "code",
      "source": [
        "import requests\n",
        "from bs4 import BeautifulSoup"
      ],
      "metadata": {
        "id": "YFMMY1xT-TSl"
      },
      "execution_count": 4,
      "outputs": []
    },
    {
      "cell_type": "markdown",
      "source": [
        " Obtenir le titre et les chapeaux\n",
        "\n",
        "La première étape est de demander la page au serveur en utilisant la fonction requests.get."
      ],
      "metadata": {
        "id": "fM4tumfbBgWH"
      }
    },
    {
      "cell_type": "code",
      "source": [
        "page= requests.get(\"https://www.lemonde.fr/actualite-en-continu/\")"
      ],
      "metadata": {
        "id": "Jmk2Bg_0-cIF"
      },
      "execution_count": 5,
      "outputs": []
    },
    {
      "cell_type": "code",
      "source": [
        "page.status_code"
      ],
      "metadata": {
        "colab": {
          "base_uri": "https://localhost:8080/"
        },
        "id": "DRBmUkXd-9VU",
        "outputId": "bb61fa3a-8a55-4baa-90cd-81b2642a189c"
      },
      "execution_count": 6,
      "outputs": [
        {
          "output_type": "execute_result",
          "data": {
            "text/plain": [
              "200"
            ]
          },
          "metadata": {},
          "execution_count": 6
        }
      ]
    },
    {
      "cell_type": "markdown",
      "source": [
        "Noter le code de réponse : 200 = Success.\n",
        "\n",
        "On peut afficher le contenu HTML de la page avec l'attribut content."
      ],
      "metadata": {
        "id": "VBnvCPxKBkzF"
      }
    },
    {
      "cell_type": "code",
      "source": [
        "page.content"
      ],
      "metadata": {
        "id": "7Yj052Gp-9YN"
      },
      "execution_count": null,
      "outputs": []
    },
    {
      "cell_type": "code",
      "source": [
        "soup = BeautifulSoup(page.content)\n",
        "\n",
        "print(soup.prettify()) # pour un meilleur affichage"
      ],
      "metadata": {
        "id": "YxANF-QwAZwq"
      },
      "execution_count": null,
      "outputs": []
    },
    {
      "cell_type": "code",
      "source": [],
      "metadata": {
        "id": "5aMFb_UFAZz1"
      },
      "execution_count": null,
      "outputs": []
    },
    {
      "cell_type": "markdown",
      "source": [
        "On peut ensuite extraire le texte depuis les tags qui nous intéressent.\n",
        "\n",
        "Pour connaître le noms des tags pertinents, on utilise l'inspecteur du navigateur. On va se concentrer sur la section id=\"river\", qui contient les articles :"
      ],
      "metadata": {
        "id": "zv8FxuPVBMvu"
      }
    },
    {
      "cell_type": "code",
      "source": [
        "content = soup.find('section', {'id':'river'})\n",
        "content"
      ],
      "metadata": {
        "id": "ZZHiXaZnAR92"
      },
      "execution_count": null,
      "outputs": []
    },
    {
      "cell_type": "code",
      "source": [
        "# Syntaxe alternative : la méthode select\n",
        "\n",
        "content2 = soup.select(\"html body section#river .teaser\")\n",
        "\n",
        "# Cette méthode utilise la syntaxe CSS pour rechercher un tag.\n",
        "# Elle est parfois plus rapide à écrire. Les tags successifs sont\n",
        "# separés par des espaces, les # désignent une class et les . un id.\n",
        "# On peut obtenir le chemin CSS avec clic droit dans l'inspecteur."
      ],
      "metadata": {
        "id": "CishO9zuASBg"
      },
      "execution_count": 12,
      "outputs": []
    },
    {
      "cell_type": "markdown",
      "source": [
        "On isole les titres (h3) et les chapeaux (p, class='teaser__desc') des articles :"
      ],
      "metadata": {
        "id": "nzvSLPAfCO2r"
      }
    },
    {
      "cell_type": "code",
      "source": [
        "titres = content.find_all('h3')\n",
        "titres"
      ],
      "metadata": {
        "colab": {
          "base_uri": "https://localhost:8080/"
        },
        "id": "keGY1cgrCbWs",
        "outputId": "95178fc8-93f6-4316-8bb7-d2ba7b47a4ca"
      },
      "execution_count": 17,
      "outputs": [
        {
          "output_type": "execute_result",
          "data": {
            "text/plain": [
              "[<h3 class=\"teaser__title\">Bronchiolite : la distribution du Beyfortus interrompue dans les pharmacies de ville</h3>,\n",
              " <h3 class=\"teaser__title\">Ilia Iachine, opposant russe : « La véritable Russie ne combat pas les Ukrainiens sur le front. La véritable Russie est en prison »</h3>,\n",
              " <h3 class=\"teaser__title\">Affaire Benalla : peine confirmée en appel pour Alexandre Benalla après les « violences du 1ᵉʳ-Mai »</h3>,\n",
              " <h3 class=\"teaser__title\">Paris 2024 : les Russes ne sont pas exclus des Jeux paralympiques</h3>,\n",
              " <h3 class=\"teaser__title\">L’inflation en France reste à un niveau élevé, la consommation des ménages en baisse, rapporte l’Insee</h3>,\n",
              " <h3 class=\"teaser__title\">Epic Games, société créatrice du jeu vidéo « Fortnite », annonce le licenciement de plus de 800 personnes</h3>,\n",
              " <h3 class=\"teaser__title\">Les Etats-Unis vont-ils connaître un nouveau « shutdown » ? Ce qu’il faut savoir sur cette bataille budgétaire et ses conséquences</h3>,\n",
              " <h3 class=\"teaser__title\">Plus de 50 morts et plusieurs dizaines de blessés au Pakistan dans une explosion près d’une mosquée</h3>,\n",
              " <h3 class=\"teaser__title\">Comment gérer les sans-abri toujours plus nombreux dans l’ouest des Etats-Unis ? Les élus sous pression pour trouver des solutions </h3>,\n",
              " <h3 class=\"teaser__title\">Les punaises de lit : comment se propagent-elles et comment se protéger ? Posez vos questions et témoignez </h3>,\n",
              " <h3 class=\"teaser__title\">Haut-Karabakh : au moins 170 morts dans l’explosion d’un dépôt de carburant, selon les autorités séparatistes</h3>,\n",
              " <h3 class=\"teaser__title\">L’autonomie en Corse, une idée vieille de soixante ans</h3>,\n",
              " <h3 class=\"teaser__title\">iPhone 12 interdit à la vente : l’ANFR valide le correctif fourni par Apple</h3>,\n",
              " <h3 class=\"teaser__title\">Le point sur la guerre en Ukraine : les dernières informations et les réponses à vos questions</h3>,\n",
              " <h3 class=\"teaser__title\">La France connaît son mois de septembre « le plus chaud jamais enregistré », selon Météo-France</h3>,\n",
              " <h3 class=\"teaser__title\">En Nouvelle-Calédonie, les prix sont 31 % plus élevés qu’en France métropolitaine</h3>,\n",
              " <h3 class=\"teaser__title\">Streaming musical : l’idée d’une taxe fracture la filière</h3>,\n",
              " <h3 class=\"teaser__title\">Dans le Haut-Karabakh, la fin d’une enclave arménienne née de la dislocation de l’URSS</h3>,\n",
              " <h3 class=\"teaser__title\">Après une nette baisse en 2021, le nombre d’allocataires de minima sociaux repart à la hausse en 2022</h3>,\n",
              " <h3 class=\"teaser__title\">A Marseille, deux personnes tuées et une blessée par balle en pleine rue, dans le quartier des Chutes-Lavie</h3>,\n",
              " <h3 class=\"teaser__title\">L’usine californienne de Tesla de nouveau poursuivie pour racisme</h3>,\n",
              " <h3 class=\"teaser__title\">En Europe, la mécanique du Green Deal se grippe</h3>,\n",
              " <h3 class=\"teaser__title\">La Ryder Cup, une compétition historique qui ne ressemble à aucune autre</h3>,\n",
              " <h3 class=\"teaser__title\">En pleines négociations sur l’assurance-chômage, patronat et syndicats dénoncent une « ponction inacceptable » des recettes de l’Unédic</h3>,\n",
              " <h3 class=\"teaser__title\">Niger : une attaque attribuée à des djihadistes tue sept soldats dans l’ouest du pays</h3>,\n",
              " <h3 class=\"teaser__title\">Joe Biden s’en prend nommément à Donald Trump, le qualifiant de menace pour la démocratie</h3>,\n",
              " <h3 class=\"teaser__title\">Plus de 2 500 hommes, femmes et enfants sont morts ou disparus en Méditerranée en 2023, selon l’ONU</h3>,\n",
              " <h3 class=\"teaser__title\">Affaire Fillon : l’ex-premier ministre remporte une victoire judiciaire devant le Conseil constitutionnel</h3>,\n",
              " <h3 class=\"teaser__title\">La rédaction des « Echos » refuse de porter François Vidal à sa tête</h3>,\n",
              " <h3 class=\"teaser__title\">Coupe du monde de rugby : le Japon bat les Samoa et reste en course pour les quarts de finale</h3>,\n",
              " <h3 class=\"teaser__title\">Pacte enseignant : Gabriel Attal annonce une moyenne de 25 % de professeurs signataires</h3>,\n",
              " <h3 class=\"teaser__title\">Le maréchal libyen Haftar reçu par Vladimir Poutine à Moscou</h3>,\n",
              " <h3 class=\"teaser__title\">Une « prime exceptionnelle de pouvoir d’achat » versée en octobre à 730 000 agents de l’éducation nationale</h3>,\n",
              " <h3 class=\"teaser__title\">Guerre en Ukraine : retour sur la journée du 28 septembre</h3>,\n",
              " <h3 class=\"teaser__title\">Antoine Dupont : nouvelles « rassurantes » de sa blessure, mais le staff du XV de France « ne maîtrise pas sa capacité à rejouer au rugby »</h3>,\n",
              " <h3 class=\"teaser__title\">Autonomie de la Corse : « Nous voulons la même chose », déclare le président de la région Bretagne, après les propos d’Emmanuel Macron</h3>,\n",
              " <h3 class=\"teaser__title\">Sans lactose, sans gluten, sans fruits de mer… Quand les chefs doivent s’adapter aux intolérances alimentaires</h3>,\n",
              " <h3 class=\"teaser__title\">Affaire Sébastien Raoult : le hackeur français plaide finalement coupable devant la justice américaine</h3>,\n",
              " <h3 class=\"teaser__title\">Football féminin : TF1 acquiert l’intégralité des droits de l’Euro 2025</h3>,\n",
              " <h3 class=\"teaser__title\">Les « contrôles au faciès » et le port du matricule des policiers, deux dossiers très sensibles devant le Conseil d’Etat</h3>,\n",
              " <h3 class=\"teaser__title\">Trois morts à la suite d’une double attaque armée à Rotterdam, un homme arrêté</h3>,\n",
              " <h3 class=\"teaser__title\">Golf : Céline Boutier, une bosseuse qui s’est nourrie de la compétition</h3>,\n",
              " <h3 class=\"teaser__title\">Nouvelle-Calédonie : soutien financier de 37 millions d’euros de l’Etat</h3>,\n",
              " <h3 class=\"teaser__title\">La Mairie de Paris propose que le risque d’être infesté par des punaises de lit soit intégré « au contrat d’assurance habitation »</h3>,\n",
              " <h3 class=\"teaser__title\">Affaire Fillon : le Conseil constitutionnel ouvre la voie à un nouveau procès dans l’affaire des emplois fictifs, qui vaut aussi pour Nicolas Sarkozy dans l’affaire des écoutes</h3>,\n",
              " <h3 class=\"teaser__title\">Epreuves de spécialité en juin, philosophie, grand oral… Découvrez les dates du baccalauréat 2024</h3>,\n",
              " <h3 class=\"teaser__title\">Amin Maalouf a été élu secrétaire perpétuel de l’Académie française</h3>,\n",
              " <h3 class=\"teaser__title\">Minelli placé en redressement judiciaire</h3>,\n",
              " <h3 class=\"teaser__title\">Eric Zemmour condamné à 4 000 euros d’amende pour injure homophobe</h3>,\n",
              " <h3 class=\"teaser__title\">Grèce : de nouvelles inondations touchent le centre du pays, trois semaines après le passage de la tempête Daniel</h3>,\n",
              " <h3 class=\"teaser__title\">L’écrivain Dan Franck et son histoire longtemps indicible avec Action directe</h3>,\n",
              " <h3 class=\"teaser__title\">Emmanuel Macron propose « une autonomie dans la République » pour la Corse mais pas « contre l’Etat »</h3>,\n",
              " <h3 class=\"teaser__title\">L’acteur Michael Gambon, connu pour son rôle de Dumbledore dans « Harry Potter », est mort</h3>,\n",
              " <h3 class=\"teaser__title\">Espagne : un adolescent poignarde trois professeurs et deux élèves dans un collège</h3>,\n",
              " <h3 class=\"teaser__title\">L’arrestation du patron d’Evergrande, nouvelle étape de la chute du géant immobilier chinois</h3>,\n",
              " <h3 class=\"teaser__title\">Le nombre de naissances en France n’a jamais été aussi bas depuis la fin de la seconde guerre mondiale</h3>,\n",
              " <h3 class=\"teaser__title\">Bas salaires rattrapés par le smic et coût exorbitant pour les finances publiques : les conséquences de deux ans d’inflation</h3>,\n",
              " <h3 class=\"teaser__title\">Emmanuel Macron en Corse : retrouvez le discours du président sur l’autonomie de l’île</h3>,\n",
              " <h3 class=\"teaser__title\">Aux Etats-Unis, en l’absence de Trump, le débat sans relief des prétendants républicains</h3>,\n",
              " <h3 class=\"teaser__title\">PlayStation : le patron de la division jeux vidéo de Sony va quitter ses fonctions</h3>]"
            ]
          },
          "metadata": {},
          "execution_count": 17
        }
      ]
    },
    {
      "cell_type": "code",
      "source": [],
      "metadata": {
        "id": "4l6l3c2aCrKz"
      },
      "execution_count": null,
      "outputs": []
    },
    {
      "cell_type": "code",
      "source": [
        "chapeaux = content.find_all('p', {'class': 'teaser__desc'})\n",
        "chapeaux"
      ],
      "metadata": {
        "colab": {
          "base_uri": "https://localhost:8080/"
        },
        "id": "5RB9Ch52Cba1",
        "outputId": "a7abafd4-b59d-4e9b-edb6-cb8f56c48746"
      },
      "execution_count": 16,
      "outputs": [
        {
          "output_type": "execute_result",
          "data": {
            "text/plain": [
              "[<p class=\"teaser__desc\">L’engouement pour le nouveau traitement est tel que les commandes passées par les officines tardent à arriver. La direction générale de la santé a recommandé, vendredi 29 septembre, aux médecins de ville de suspendre les prescriptions du dosage pour les bébés de plus de 5 kilos.</p>,\n",
              " <p class=\"teaser__desc\">L’homme politique membre de l’opposition, condamné à huit ans et demi de colonie pénitentiaire pour avoir dénoncé l’agression russe en Ukraine, a envoyé un texte à l’occasion d’un forum organisé par l’association Russie-Libertés, à Paris, les 29 et 30 septembre. « Le Monde » en publie de larges extraits.</p>,\n",
              " <p class=\"teaser__desc\">En première instance, l’ancien collaborateur de l’Elysée avait été condamné à trois ans de prison, dont un an ferme sous bracelet électronique.</p>,\n",
              " <p class=\"teaser__desc\">Le comité international paralympique a voté contre l’exclusion vendredi du comité russe. Une décision qui marque un infléchissement de la fermeté dont a fait preuve jusque-là l’IPC.</p>,\n",
              " <p class=\"teaser__desc\">Les prix à la consommation ont augmenté de 4,9 % sur un an en septembre, un taux stable par rapport à août. Les produits ont encore augmenté (+ 9,6 %), mais leur hausse a nettement ralenti, note l’Insee.</p>,\n",
              " <p class=\"teaser__desc\">Epic Games a révélé jeudi la préparation d’un plan social dans le but de stabiliser ses finances, a expliqué Tim Sweeney, son directeur général, ainsi que la vente de sa boutique en ligne Bandcamp.</p>,\n",
              " <p class=\"teaser__desc\">Les lois de dépenses permettant de financer le fonctionnement de l’Etat fédéral expirent samedi. La paralysie qui menace est la conséquence d’un blocage politique au Congrès, entre le Sénat, à majorité démocrate, et la Chambre des représentants, aux mains des républicains.</p>,\n",
              " <p class=\"teaser__desc\">Le ministre de l’information du Balouchistan, Jan Achakzai, a appelé à des dons du sang pour soigner les blessés. Il a aussi décrété un deuil de trois jours.</p>,\n",
              " <p class=\"teaser__desc\">La canicule a mis à jour le nombre croissant de sans-abri dans les grandes villes de l’Ouest. Les élus sont soumis à une forte pression pour s’attaquer au manque de logements, qui affecte particulièrement leurs Etats.</p>,\n",
              " <p class=\"teaser__desc\">Alors que la Mairie de Paris parle d’une « recrudescence importante », le gouvernement prépare un plan spécifique avec les compagnies de transport. Témoignez et posez vos questions à Jean-Michel Bérenger, entomologiste à l’IHU de Marseille, qui y répondra à partir de 15 heures.</p>,\n",
              " <p class=\"teaser__desc\">« La plupart des blessés sont dans un état grave ou très grave », avait déclaré lundi un représentant de la république autoproclamée, demandant une aide extérieure d’urgence.</p>,\n",
              " <p class=\"teaser__desc\">Théorisé dans les années 1970 par Max Simeoni, le projet a fait son retour après l’assassinat en prison d’Yvan Colonna, en mars 2022. Dernière étape en date, le discours prononcé jeudi par Emmanuel Macron devant l’Assemblée de Corse.</p>,\n",
              " <p class=\"teaser__desc\">Apple avait été sommé par l’agence nationale des fréquences de mettre au point un pansement logiciel pour réduire les émissions d’ondes de son iPhone 12. Reste encore à le publier, pour que les usagers français du mobile puissent l’installer.</p>,\n",
              " <p class=\"teaser__desc\">Sébastien Lecornu, ministre des armées en visite à Kiev jeudi, a déclaré que la France continuera de livrer des armes à l’Ukraine, rappelant qu’en droit international le fait d’aider un pays en guerre, « ce n’est pas être cobelligérant ».</p>,\n",
              " <p class=\"teaser__desc\">La température moyenne sera au moins de 3,5 °C au-dessus des normales des trois précédentes décennies. Cet été avait déjà été considéré comme figurant parmi les plus chauds historiquement.</p>,\n",
              " <p class=\"teaser__desc\">L’archipel est, avec la Polynésie française, le territoire ultramarin où l’écart de niveau des prix à la consommation avec la France métropolitaine a été le plus important en 2022, selon une étude de l’Institut de la statistique et des études économiques – Nouvelle-Calédonie (Isee).</p>,\n",
              " <p class=\"teaser__desc\">Pour pérenniser le financement du Centre national de la musique, le gouvernement pourrait décider de ponctionner 1,75 % du chiffre d’affaires des opérateurs de plates-formes musicales.</p>,\n",
              " <p class=\"teaser__desc\">Trente-deux ans après sa création, la république autoproclamée a annoncé s’autodissoudre, après des combats face à l’armée azerbaïdjanaise qui ont achevé de briser ses forces d’autodéfense. L’épilogue d’un conflit séculaire.</p>,\n",
              " <p class=\"teaser__desc\">Ce nombre a augmenté de 0,4 % pour atteindre 4,34 millions, selon la direction de la recherche, des études, de l’évaluation et des statistiques (Drees), qui constate une hausse marquée pour les demandeurs d’asile et les bénéficiaires de l’allocation pour adulte handicapé.</p>,\n",
              " <p class=\"teaser__desc\">Les faits se sont produits sur la voie publique, jeudi soir, dans le 4ᵉ arrondissement de Marseille, selon des sources policières. Une enquête a été ouverte pour assassinats et tentative d’assassinat en bande organisée.</p>,\n",
              " <p class=\"teaser__desc\">Selon la plainte déposée, les salariés noirs de l’usine de Fremont ont régulièrement été victimes d’insultes et de comportements racistes « depuis au moins 2015 ». En février 2022, la Californie avait déjà porté plainte contre cette usine pour discrimination raciale.</p>,\n",
              " <p class=\"teaser__desc\">De nombreux chefs d’Etat et de gouvernement de l’Union européenne ont appelé à une « pause réglementaire » dans la mise en œuvre des mesures de décarbonation, dont ils redoutent les conséquences économiques et sociales.</p>,\n",
              " <p class=\"teaser__desc\">Vingt-huit parties en trois jours, plusieurs formats de matchs, des rivaux habituels qui deviennent coéquipiers… La 44ᵉ édition de la prestigieuse compétition de golf débute vendredi, à Rome.</p>,\n",
              " <p class=\"teaser__desc\">Le gouvernement entend prélever par arrêté deux milliards d’euros dès 2023 sur les excédents de l’association copilotée par les partenaires sociaux, puis deux milliards à nouveau en 2024 à travers le projet de loi de financement de la Sécurité sociale.</p>,\n",
              " <p class=\"teaser__desc\">En outre, cinq autres militaires sont morts dans un accident de la circulation au cours d’une intervention en réponse à cet assaut terroriste.</p>,\n",
              " <p class=\"teaser__desc\">En déplacement dans l’Arizona, le président américain a jugé que son prédécesseur, favori pour la candidature républicaine à l’élection de 2024, était guidé « par la vengeance et la rancune ».</p>,\n",
              " <p class=\"teaser__desc\">Cela représente une augmentation de près de 50 % par rapport à la même période en 2022. Au total, 186 000 personnes sont arrivées dans le sud de l’Europe depuis le 1ᵉʳ janvier, soit une hausse de 83 %.</p>,\n",
              " <p class=\"teaser__desc\">Saisi dans le cadre d’une question prioritaire de constitutionnalité, le Conseil a abrogé, jeudi, une disposition du code de procédure pénale, ouvrant la voie à un possible troisième procès dans le dossier des emplois fictifs. La décision pourrait aussi profiter à Nicolas Sarkozy.</p>,\n",
              " <p class=\"teaser__desc\">Les journalistes ont refusé, à 66,9 % des inscrits, que le candidat proposé par le conseil de surveillance du quotidien économique succède à Nicolas Barré à la direction de la rédaction.</p>,\n",
              " <p class=\"teaser__desc\">En s’imposant (28-22), jeudi, les Japonais ont éliminé leurs adversaires du soir. Ils joueront leur qualification contre l’Argentine, le 8 octobre, lors de la dernière journée.</p>,\n",
              " <p class=\"teaser__desc\">Les premières données avancées par le ministère depuis la rentrée et le déploiement de ce dispositif contesté de rémunérations supplémentaires en contrepartie de la réalisation de missions, sont basées sur un échantillon de trois quarts des établissements publics.</p>,\n",
              " <p class=\"teaser__desc\">Il s’agit de la première rencontre entre les deux hommes depuis 2019, selon des médias libyens. « La situation en Libye et dans l’ensemble de la région a été discutée », a fait savoir le porte-parole du Kremlin, Dmitri Peskov.</p>,\n",
              " <p class=\"teaser__desc\">Dans le détail, « 500 000 enseignants (…) auront en moyenne 380 euros » et « 230 000 autres personnels », notamment les accompagnants d’élèves en situation de handicap, percevront en moyenne 500 euros, a précisé le ministre, Gabriel Attal, jeudi.</p>,\n",
              " <p class=\"teaser__desc\">Les Vingt-Sept ont décidé jeudi de prolonger à nouveau d’un an, jusqu’en mars 2025, la protection accordée aux réfugiés ukrainiens au sein de l’ensemble de l’Union européenne.</p>,\n",
              " <p class=\"teaser__desc\">Une semaine après la blessure du capitaine tricolore lors du match face à la Namibie, le manager santé du XV de France, Bruno Boussagol, a donné des nouvelles ambivalentes du demi de mêlée des Bleus.</p>,\n",
              " <p class=\"teaser__desc\">« Il n’y a pas des élus matures et responsables d’un côté, qui peuvent avoir des droits d’agir au quotidien pour leurs habitants, et d’autres élus qui vont rester dans un centralisme passéiste », a réagi jeudi, aux propos du chef de l’Etat, Loïg Chesnais-Girard, depuis le congrès des Régions de France.</p>,\n",
              " <p class=\"teaser__desc\">En poussant la porte des restaurants, de plus en plus de clients font part d’un régime particulier, obligeant les chefs à modifier certains de leurs plats. Et à trouver des parades culinaires réjouissantes.</p>,\n",
              " <p class=\"teaser__desc\">Arrêté au Maroc en mai 2022, le jeune homme de 22 ans était accusé par la justice américaine d’avoir fait partie des ShinyHunters. Ce groupe de pirates informatiques s’est attaqué aux données d’une soixantaine d’entreprises à travers le monde entre avril 2020 et juillet 2021. Ses proches avaient jusqu’ici toujours clamé son innocence.</p>,\n",
              " <p class=\"teaser__desc\">Lors du Mondial 2023, les Bleues avaient provoqué des succès d’audience grandissants, le quart de finale ayant rassemblé 5,7 millions de téléspectateurs, soit 70 % de part d’audience.</p>,\n",
              " <p class=\"teaser__desc\">La haute juridiction administrative a été saisie par des associations en vue d’obtenir une obligation de récépissé pour les contrôles et des sanctions en cas de non-port du numéro de matricule, théoriquement obligatoire.</p>,\n",
              " <p class=\"teaser__desc\">Selon la police, « un habitant de Rotterdam âgé de 32 ans a été arrêté. Il est soupçonné d’être impliqué dans les deux incidents » et aurait agi seul. Le motif des assauts reste inconnu pour l’instant.</p>,\n",
              " <p class=\"teaser__desc\">A force de travail et de détermination, la Francilienne, tête d’affiche du Lacoste Ladies Open de France, qui a commencé jeudi, s’est constitué le palmarès le plus garni du golf tricolore.</p>,\n",
              " <p class=\"teaser__desc\">L’octroi est conditionné à la réalisation de réformes, notamment sur la pérennisation de l’assurance-maladie, de la caisse locale de retraite et du régime handicap et perte d’autonomie.</p>,\n",
              " <p class=\"teaser__desc\">Le premier adjoint à la maire de Paris, Emmanuel Grégoire, a demandé à l’Etat d’organiser rapidement des « assises de la lutte contre les nuisibles » pour contenir « la recrudescence importante » de ces insectes.</p>,\n",
              " <p class=\"teaser__desc\">Les sages ont jugé recevable le recours qu’a formé François Fillon dans l’affaire des emplois fictifs sous forme de question prioritaire de constitutionnalité, à laquelle s’était joint Nicolas Sarkozy pour l’affaire des écoutes. Le recours concernait un point de procédure.</p>,\n",
              " <p class=\"teaser__desc\">Le nouveau calendrier acte le retour du baccalauréat en juin. Un stage de quinze jours aura également lieu pour les élèves de 2de.</p>,\n",
              " <p class=\"teaser__desc\">Les Immortels l’ont choisi, contre Jean-Christophe Rufin, pour prendre la succession d’Hélène Carrère d’Encausse, morte le 5 août.</p>,\n",
              " <p class=\"teaser__desc\">L’entreprise spécialisée dans la chaussure a été placée, jeudi, en redressement judiciaire par le tribunal de commerce de Marseille.</p>,\n",
              " <p class=\"teaser__desc\">L’association Stop Homophobie avait porté plainte contre des propos tenus par Eric Zemmour, le 15 octobre 2019, dans l’émission « Face à l’info » animée par Christine Kelly.</p>,\n",
              " <p class=\"teaser__desc\">Cette nouvelle tempête baptisée Elias touche depuis mercredi soir la ville de Volos, l’Eubée et le district régional de Phthiotide. Selon la météo, elle doit s’affaiblir jeudi soir, mais « les forces de secours resteront sur place », a affirmé jeudi le porte-parole des pompiers.</p>,\n",
              " <p class=\"teaser__desc\">Le scénariste a passé quarante jours en prison en 1984, avant d’être condamné pour « brigandage » en lien avec le groupuscule terroriste. Un épisode « honteux » de sa vie, dont il n’a jamais parlé avant qu’il ne ressorte sur Internet. Il raconte aujourd’hui sa version des faits dans un livre, « L’Arrestation ».</p>,\n",
              " <p class=\"teaser__desc\">Le président de la République s’est dit favorable à une reconnaissance de la spécificité de l’île dans la Constitution française, souhaitant un « accord » d’ici six mois entre les partis politiques insulaires et le gouvernement pour lancer une révision constitutionnelle.</p>,\n",
              " <p class=\"teaser__desc\">L’acteur irlando-britannique est mort à l’âge de 82 ans, a annoncé, jeudi, sa famille dans un communiqué.</p>,\n",
              " <p class=\"teaser__desc\">L’élève de 14 ans, scolarisé dans un établissement d’Andalousie, était armé de deux couteaux. Il a, depuis, été arrêté par la police. Le motif de l’attaque reste inconnu.</p>,\n",
              " <p class=\"teaser__desc\">Xu Jiayin, flamboyant fondateur de l’entreprise de promotion immobilière, arrêté en septembre, rejoint une longue liste de grands patrons chinois disparus dans le cadre d’enquêtes de police.</p>,\n",
              " <p class=\"teaser__desc\">La légère hausse des naissances enregistrée en 2021, à la suite des confinements liés à la crise du Covid-19, n’a pas été renouvelée en 2022.</p>,\n",
              " <p class=\"teaser__desc\">Les hausses successives du salaire minimum, indexé sur l’inflation, ont non seulement provoqué le tassement des salaires mais aussi une augmentation des exonérations des cotisations patronales. Ces deux sujets devraient être au cœur de la conférence sociale voulue par Emmanuel Macron, à la mi-octobre.</p>,\n",
              " <p class=\"teaser__desc\">Invité à s’exprimer jeudi matin devant l’Assemblée de Corse, le chef de l’Etat a donné six mois au gouvernement et aux élus corses pour aboutir à un « texte constitutionnel et organique ». Une révision de la Constitution nécessiterait l’accord des trois cinquièmes du Congrès.</p>,\n",
              " <p class=\"teaser__desc\">Sept candidats à l’investiture du Grand Old Party se sont affrontés mercredi devant les caméras de Fox News, sans que l’un d’eux parvienne à se démarquer de façon franche de l’ex-président, grand favori des sondages.</p>,\n",
              " <p class=\"teaser__desc\">Sony Interactive Entertainment a annoncé mercredi le départ à venir de son PDG. Il a notamment piloté le lancement de la PlayStation 5.</p>]"
            ]
          },
          "metadata": {},
          "execution_count": 16
        }
      ]
    },
    {
      "cell_type": "code",
      "source": [
        "titres[0].get_text()"
      ],
      "metadata": {
        "colab": {
          "base_uri": "https://localhost:8080/",
          "height": 175
        },
        "id": "zJNSW2kRAHY4",
        "outputId": "28f92fde-d763-4a56-e5c9-90569d38906b"
      },
      "execution_count": 14,
      "outputs": [
        {
          "output_type": "error",
          "ename": "NameError",
          "evalue": "ignored",
          "traceback": [
            "\u001b[0;31m---------------------------------------------------------------------------\u001b[0m",
            "\u001b[0;31mNameError\u001b[0m                                 Traceback (most recent call last)",
            "\u001b[0;32m<ipython-input-14-4bd2a6aeb5c7>\u001b[0m in \u001b[0;36m<cell line: 1>\u001b[0;34m()\u001b[0m\n\u001b[0;32m----> 1\u001b[0;31m \u001b[0mtitres\u001b[0m\u001b[0;34m[\u001b[0m\u001b[0;36m0\u001b[0m\u001b[0;34m]\u001b[0m\u001b[0;34m.\u001b[0m\u001b[0mget_text\u001b[0m\u001b[0;34m(\u001b[0m\u001b[0;34m)\u001b[0m\u001b[0;34m\u001b[0m\u001b[0;34m\u001b[0m\u001b[0m\n\u001b[0m",
            "\u001b[0;31mNameError\u001b[0m: name 'titres' is not defined"
          ]
        }
      ]
    },
    {
      "cell_type": "code",
      "source": [
        "# Nettoyage sous forme de list comprehension (mieux)\n",
        "titres = [ unidecode(t.get_text()) for t in titres ]\n",
        "titres"
      ],
      "metadata": {
        "id": "vrSjFlph-9cA"
      },
      "execution_count": null,
      "outputs": []
    },
    {
      "cell_type": "code",
      "source": [],
      "metadata": {
        "id": "gdgfi0vgAHbs"
      },
      "execution_count": null,
      "outputs": []
    },
    {
      "cell_type": "code",
      "source": [],
      "metadata": {
        "id": "F1IlSqceAHfE"
      },
      "execution_count": null,
      "outputs": []
    },
    {
      "cell_type": "code",
      "source": [],
      "metadata": {
        "id": "-ZF6m22v-9fR"
      },
      "execution_count": null,
      "outputs": []
    }
  ]
}