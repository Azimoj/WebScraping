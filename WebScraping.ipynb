{
  "nbformat": 4,
  "nbformat_minor": 0,
  "metadata": {
    "colab": {
      "provenance": [],
      "authorship_tag": "ABX9TyN3SrCi6OS8CmyQrMYnzL1m",
      "include_colab_link": true
    },
    "kernelspec": {
      "name": "python3",
      "display_name": "Python 3"
    },
    "language_info": {
      "name": "python"
    }
  },
  "cells": [
    {
      "cell_type": "markdown",
      "metadata": {
        "id": "view-in-github",
        "colab_type": "text"
      },
      "source": [
        "<a href=\"https://colab.research.google.com/github/Azimoj/WebScraping/blob/main/WebScraping.ipynb\" target=\"_parent\"><img src=\"https://colab.research.google.com/assets/colab-badge.svg\" alt=\"Open In Colab\"/></a>"
      ]
    },
    {
      "cell_type": "code",
      "source": [
        "import requests\n",
        "from bs4 import BeautifulSoup"
      ],
      "metadata": {
        "id": "YFMMY1xT-TSl"
      },
      "execution_count": 4,
      "outputs": []
    },
    {
      "cell_type": "code",
      "source": [
        "page= requests.get(\"https://www.lemonde.fr/actualite-en-continu/\")"
      ],
      "metadata": {
        "id": "Jmk2Bg_0-cIF"
      },
      "execution_count": 5,
      "outputs": []
    },
    {
      "cell_type": "code",
      "source": [
        "page.status_code"
      ],
      "metadata": {
        "colab": {
          "base_uri": "https://localhost:8080/"
        },
        "id": "DRBmUkXd-9VU",
        "outputId": "bb61fa3a-8a55-4baa-90cd-81b2642a189c"
      },
      "execution_count": 6,
      "outputs": [
        {
          "output_type": "execute_result",
          "data": {
            "text/plain": [
              "200"
            ]
          },
          "metadata": {},
          "execution_count": 6
        }
      ]
    },
    {
      "cell_type": "code",
      "source": [
        "page.content"
      ],
      "metadata": {
        "id": "7Yj052Gp-9YN"
      },
      "execution_count": null,
      "outputs": []
    },
    {
      "cell_type": "code",
      "source": [
        "soup = BeautifulSoup(page.content)\n",
        "\n",
        "print(soup.prettify()) # pour un meilleur affichage"
      ],
      "metadata": {
        "id": "YxANF-QwAZwq"
      },
      "execution_count": null,
      "outputs": []
    },
    {
      "cell_type": "code",
      "source": [],
      "metadata": {
        "id": "5aMFb_UFAZz1"
      },
      "execution_count": null,
      "outputs": []
    },
    {
      "cell_type": "code",
      "source": [
        "content = soup.find('section', {'id':'river'})\n",
        "content"
      ],
      "metadata": {
        "id": "ZZHiXaZnAR92"
      },
      "execution_count": null,
      "outputs": []
    },
    {
      "cell_type": "code",
      "source": [
        "# Syntaxe alternative : la méthode select\n",
        "\n",
        "content2 = soup.select(\"html body section#river .teaser\")\n",
        "\n",
        "# Cette méthode utilise la syntaxe CSS pour rechercher un tag.\n",
        "# Elle est parfois plus rapide à écrire. Les tags successifs sont\n",
        "# separés par des espaces, les # désignent une class et les . un id.\n",
        "# On peut obtenir le chemin CSS avec clic droit dans l'inspecteur."
      ],
      "metadata": {
        "id": "CishO9zuASBg"
      },
      "execution_count": null,
      "outputs": []
    },
    {
      "cell_type": "code",
      "source": [
        "titres[0].get_text()"
      ],
      "metadata": {
        "id": "zJNSW2kRAHY4"
      },
      "execution_count": null,
      "outputs": []
    },
    {
      "cell_type": "code",
      "source": [],
      "metadata": {
        "id": "gdgfi0vgAHbs"
      },
      "execution_count": null,
      "outputs": []
    },
    {
      "cell_type": "code",
      "source": [],
      "metadata": {
        "id": "F1IlSqceAHfE"
      },
      "execution_count": null,
      "outputs": []
    },
    {
      "cell_type": "code",
      "source": [
        "# Nettoyage sous forme de list comprehension (mieux)\n",
        "titres = [ unidecode(t.get_text()) for t in titres ]\n",
        "titres"
      ],
      "metadata": {
        "id": "vrSjFlph-9cA"
      },
      "execution_count": null,
      "outputs": []
    },
    {
      "cell_type": "code",
      "source": [],
      "metadata": {
        "id": "-ZF6m22v-9fR"
      },
      "execution_count": null,
      "outputs": []
    }
  ]
}